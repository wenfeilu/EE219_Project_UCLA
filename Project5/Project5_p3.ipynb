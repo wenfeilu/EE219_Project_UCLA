{
 "cells": [
  {
   "cell_type": "markdown",
   "metadata": {},
   "source": [
    "# Part 3"
   ]
  },
  {
   "cell_type": "markdown",
   "metadata": {},
   "source": [
    "In part3, we define our own model by twitter data sentiment analysis. Firstly, we get the text of every tweet in hashtag files. Secondly, We use SentimentIntensityAnalyzer in nltk to get the sentiment of the text. We define 'posivite'=1,'negative'=-1,'neutral'=0. Finally, we calculate the sum of sentiment value per hour and get the value vs time plot. As it shows in figures of #GoPatriots and #GoHawks, people show more positive attitudes toward Hawks before the game begin and show more positive attitudes toward Patriots after the game. This result is in accordance with the final result of the game, which the winner is Patriots."
   ]
  },
  {
   "cell_type": "code",
   "execution_count": 39,
   "metadata": {
    "collapsed": true
   },
   "outputs": [],
   "source": [
    "import os\n",
    "import json\n",
    "import pandas as pd\n",
    "from pandas import DataFrame\n",
    "import numpy as np\n",
    "from sklearn.linear_model import LinearRegression\n",
    "from sklearn.ensemble import RandomForestRegressor\n",
    "from sklearn.neural_network import MLPRegressor\n",
    "import matplotlib.pyplot as plt\n",
    "import statsmodels.api as sm\n",
    "from sklearn.cross_validation import cross_val_predict\n",
    "import nltk\n",
    "from nltk.sentiment.vader import SentimentIntensityAnalyzer"
   ]
  },
  {
   "cell_type": "code",
   "execution_count": 40,
   "metadata": {},
   "outputs": [
    {
     "name": "stdout",
     "output_type": "stream",
     "text": [
      "2015-01-14 00:00:00-08:00\n",
      "2015-02-01 08:00:00-08:00\n",
      "2015-02-01 20:00:00-08:00\n",
      "440\n",
      "452\n"
     ]
    }
   ],
   "source": [
    "import datetime\n",
    "import pytz\n",
    "pst_tz = pytz.timezone('US/Pacific')\n",
    "time0=datetime.datetime.fromtimestamp(1421222400, pst_tz)\n",
    "time1=datetime.datetime.fromtimestamp(1422806400, pst_tz)\n",
    "time2=datetime.datetime.fromtimestamp(1422849600, pst_tz)\n",
    "print(time0)\n",
    "print(time1)\n",
    "print(time2)\n",
    "\n",
    "firsttime = int((1422806400-1421222400)/3600)\n",
    "print(firsttime)\n",
    "secondtime = int((1422849600-1421222400)/3600)\n",
    "print(secondtime)"
   ]
  },
  {
   "cell_type": "code",
   "execution_count": 52,
   "metadata": {
    "collapsed": true
   },
   "outputs": [],
   "source": [
    "def extract_information(hashtag):\n",
    "    print(hashtag)\n",
    "    hashtag_dict = {'#GoHawks' : ['tweet_data/tweets_#gohawks.txt', 188136],\n",
    "                    '#GoPatriots' : ['tweet_data/tweets_#gopatriots.txt', 26232],\n",
    "                    '#NFL' : ['tweet_data/tweets_#nfl.txt', 259024],\n",
    "                    '#Patriots' : ['tweet_data/tweets_#patriots.txt', 489713],\n",
    "                    '#SB49' : ['tweet_data/tweets_#sb49.txt', 826951],\n",
    "                    '#SuperBowl' : ['tweet_data/tweets_#superbowl.txt', 1348767]}\n",
    "    \n",
    "    time_stamps = [0]*hashtag_dict[hashtag][1]\n",
    "    sentiment_tweets = [0]*hashtag_dict[hashtag][1]\n",
    "       \n",
    "    with open(hashtag_dict[hashtag][0]) as input_file:\n",
    "        for (line, index) in zip(input_file, range(0, hashtag_dict[hashtag][1])):\n",
    "            data = json.loads(line)\n",
    "            \n",
    "            time_stamps[index] = data['citation_date']\n",
    "            sid = SentimentIntensityAnalyzer()\n",
    "            sentence = data['tweet']['text']\n",
    "            \n",
    "            \n",
    "            ss = sid.polarity_scores(sentence)\n",
    "            pos = ss['pos']\n",
    "            neg = ss['neg']\n",
    "            if pos>neg:\n",
    "                sentiment_tweets[index] = 1\n",
    "            elif neg>pos:\n",
    "                sentiment_tweets[index] = -1\n",
    "            else:\n",
    "                sentiment_tweets[index] = 0\n",
    "\n",
    "    input_file.close()\n",
    "    \n",
    " #-------------------- Calculate related parameters ------------------------\n",
    "\n",
    "    start_time = 1421222400\n",
    "    hours_passed = int((max(time_stamps)-start_time)/3600)+1\n",
    "    \n",
    "    hourly_number_of_tweets = [0] * hours_passed\n",
    "    hourly_sum_of_sentiment = [0] * hours_passed\n",
    "\n",
    "    for i in range(0, len(time_stamps)):\n",
    "        current_hour = int((time_stamps[i]-start_time)/3600)\n",
    "        hourly_number_of_tweets[current_hour] += 1\n",
    "\n",
    "        hourly_sum_of_sentiment[current_hour] += sentiment_tweets[i]\n",
    "\n",
    "    #------------------ Build DataFrame and save to file ----------------------\n",
    "\n",
    "    target_value = hourly_number_of_tweets[1:]\n",
    "    target_value.append(0)\n",
    "    data = np.array([hourly_number_of_tweets, hourly_sum_of_sentiment,target_value])\n",
    "\n",
    "    data = np.transpose(data)\n",
    "\n",
    "    df = DataFrame(data)\n",
    "    df.columns = ['num_tweets', 'sentiment_tweets', 'target_value']\n",
    "    \n",
    "    if os.path.isdir('./Extracted_data'):\n",
    "        pass\n",
    "    else:\n",
    "        os.mkdir('./Extracted_data')\n",
    "\n",
    "    df.to_csv('./Extracted_data/P3_'+hashtag+'.csv', index = False)   \n",
    "\n",
    "#==============================================================================\n",
    "    \n",
    "\n"
   ]
  },
  {
   "cell_type": "code",
   "execution_count": 53,
   "metadata": {
    "collapsed": true
   },
   "outputs": [],
   "source": [
    "def get_sentiment(hashtag):\n",
    "    extract_information(hashtag)\n",
    "    training_data = pd.read_csv('./Extracted_data/P3_'+hashtag+'.csv')\n",
    "\n",
    "\n",
    "    target_data = training_data.pop('target_value')\n",
    "    sentiment_data = training_data.pop('sentiment_tweets')\n",
    "    training_data1 = sentiment_data[:440] # Before Feb. 1, 8:00 a.m.\n",
    "    training_data2 = sentiment_data[440:452] # Between Feb. 1, 8:00 a.m. and 8:00 p.m.\n",
    "    training_data3 = sentiment_data[452:] # After Feb. 1, 8:00 p.m. \n",
    "    time_tweet = range(len(sentiment_data))\n",
    "               \n",
    "    plt.plot(time_tweet,sentiment_data)\n",
    "    plt.show()\n",
    "    \n"
   ]
  },
  {
   "cell_type": "code",
   "execution_count": 55,
   "metadata": {},
   "outputs": [
    {
     "name": "stdout",
     "output_type": "stream",
     "text": [
      "#GoPatriots\n"
     ]
    },
    {
     "data": {
      "image/png": "[encoded data removed]",
      "text/plain": [
       "<matplotlib.figure.Figure at 0x10a2fcf98>"
      ]
     },
     "metadata": {},
     "output_type": "display_data"
    }
   ],
   "source": [
    "get_sentiment('#GoPatriots')"
   ]
  },
  {
   "cell_type": "code",
   "execution_count": 56,
   "metadata": {},
   "outputs": [
    {
     "name": "stdout",
     "output_type": "stream",
     "text": [
      "#GoHawks\n"
     ]
    },
    {
     "data": {
      "image/png": "[encoded data removed]",
      "text/plain": [
       "<matplotlib.figure.Figure at 0x11361dcf8>"
      ]
     },
     "metadata": {},
     "output_type": "display_data"
    }
   ],
   "source": [
    "get_sentiment('#GoHawks')"
   ]
  },
  {
   "cell_type": "code",
   "execution_count": null,
   "metadata": {
    "collapsed": true
   },
   "outputs": [],
   "source": []
  }
 ],
 "metadata": {
  "kernelspec": {
   "display_name": "Python 2",
   "language": "python",
   "name": "python2"
  },
  "language_info": {
   "codemirror_mode": {
    "name": "ipython",
    "version": 2
   },
   "file_extension": ".py",
   "mimetype": "text/x-python",
   "name": "python",
   "nbconvert_exporter": "python",
   "pygments_lexer": "ipython2",
   "version": "2.7.14"
  }
 },
 "nbformat": 4,
 "nbformat_minor": 2
}
