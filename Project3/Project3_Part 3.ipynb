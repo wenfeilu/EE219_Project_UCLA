{
 "cells": [
  {
   "cell_type": "code",
   "execution_count": 1,
   "metadata": {},
   "outputs": [
    {
     "name": "stdout",
     "output_type": "stream",
     "text": [
      "100004\n"
     ]
    },
    {
     "data": {
      "text/html": [
       "<div>\n",
       "<style scoped>\n",
       "    .dataframe tbody tr th:only-of-type {\n",
       "        vertical-align: middle;\n",
       "    }\n",
       "\n",
       "    .dataframe tbody tr th {\n",
       "        vertical-align: top;\n",
       "    }\n",
       "\n",
       "    .dataframe thead th {\n",
       "        text-align: right;\n",
       "    }\n",
       "</style>\n",
       "<table border=\"1\" class=\"dataframe\">\n",
       "  <thead>\n",
       "    <tr style=\"text-align: right;\">\n",
       "      <th></th>\n",
       "      <th>userId</th>\n",
       "      <th>movieId</th>\n",
       "      <th>rating</th>\n",
       "      <th>timestamp</th>\n",
       "    </tr>\n",
       "  </thead>\n",
       "  <tbody>\n",
       "    <tr>\n",
       "      <th>0</th>\n",
       "      <td>1</td>\n",
       "      <td>31</td>\n",
       "      <td>2.5</td>\n",
       "      <td>1260759144</td>\n",
       "    </tr>\n",
       "    <tr>\n",
       "      <th>1</th>\n",
       "      <td>1</td>\n",
       "      <td>1029</td>\n",
       "      <td>3.0</td>\n",
       "      <td>1260759179</td>\n",
       "    </tr>\n",
       "    <tr>\n",
       "      <th>2</th>\n",
       "      <td>1</td>\n",
       "      <td>1061</td>\n",
       "      <td>3.0</td>\n",
       "      <td>1260759182</td>\n",
       "    </tr>\n",
       "    <tr>\n",
       "      <th>3</th>\n",
       "      <td>1</td>\n",
       "      <td>1129</td>\n",
       "      <td>2.0</td>\n",
       "      <td>1260759185</td>\n",
       "    </tr>\n",
       "    <tr>\n",
       "      <th>4</th>\n",
       "      <td>1</td>\n",
       "      <td>1172</td>\n",
       "      <td>4.0</td>\n",
       "      <td>1260759205</td>\n",
       "    </tr>\n",
       "  </tbody>\n",
       "</table>\n",
       "</div>"
      ],
      "text/plain": [
       "   userId  movieId  rating   timestamp\n",
       "0       1       31     2.5  1260759144\n",
       "1       1     1029     3.0  1260759179\n",
       "2       1     1061     3.0  1260759182\n",
       "3       1     1129     2.0  1260759185\n",
       "4       1     1172     4.0  1260759205"
      ]
     },
     "execution_count": 1,
     "metadata": {},
     "output_type": "execute_result"
    }
   ],
   "source": [
    "import pandas as pd\n",
    "import numpy as np\n",
    "import matplotlib.pyplot as plt\n",
    "%matplotlib inline\n",
    "\n",
    "\n",
    "data = pd.read_csv('ml-latest-small/ratings.csv', sep=',')\n",
    "\n",
    "print(len(data))\n",
    "data.head()"
   ]
  },
  {
   "cell_type": "code",
   "execution_count": 2,
   "metadata": {},
   "outputs": [
    {
     "name": "stdout",
     "output_type": "stream",
     "text": [
      "100004\n"
     ]
    }
   ],
   "source": [
    "user = data['userId'].values\n",
    "rating = data['rating'].values\n",
    "movie = data['movieId'].values\n",
    "#movie=list(set(movie))\n",
    "print(len(movie))"
   ]
  },
  {
   "cell_type": "code",
   "execution_count": 3,
   "metadata": {},
   "outputs": [
    {
     "name": "stdout",
     "output_type": "stream",
     "text": [
      "9066\n"
     ]
    }
   ],
   "source": [
    "allmovie=list(set(movie))\n",
    "print(len(allmovie))"
   ]
  },
  {
   "cell_type": "code",
   "execution_count": 4,
   "metadata": {},
   "outputs": [
    {
     "name": "stdout",
     "output_type": "stream",
     "text": [
      "[0.5, 1.0, 2.0, 3.5, 2.5, 3.0, 4.0, 5.0, 4.5, 1.5]\n"
     ]
    }
   ],
   "source": [
    "r2=list(set(rating))\n",
    "print(r2)"
   ]
  },
  {
   "cell_type": "code",
   "execution_count": 5,
   "metadata": {},
   "outputs": [
    {
     "name": "stdout",
     "output_type": "stream",
     "text": [
      "671\n",
      "163949\n"
     ]
    }
   ],
   "source": [
    "print(np.max(user))\n",
    "print(np.max(movie))"
   ]
  },
  {
   "cell_type": "code",
   "execution_count": 6,
   "metadata": {},
   "outputs": [],
   "source": [
    "def build_R(user, movie, rating):\n",
    "    R = np.zeros((671,163949),dtype=int)\n",
    "    for i in range(len(user)):\n",
    "        R[user[i]-1, movie[i]-1] = rating[i]\n",
    "    return R"
   ]
  },
  {
   "cell_type": "code",
   "execution_count": 7,
   "metadata": {},
   "outputs": [
    {
     "name": "stdout",
     "output_type": "stream",
     "text": [
      "(671, 163949)\n"
     ]
    }
   ],
   "source": [
    "R = build_R(user, movie, rating)\n",
    "print(R.shape)"
   ]
  },
  {
   "cell_type": "markdown",
   "metadata": {},
   "source": [
    "# Q1: Calculate Sparsity"
   ]
  },
  {
   "cell_type": "code",
   "execution_count": 8,
   "metadata": {},
   "outputs": [
    {
     "name": "stdout",
     "output_type": "stream",
     "text": [
      "98903\n",
      "sparsity =  0.016258153899060476\n"
     ]
    }
   ],
   "source": [
    "W = (R!=0)\n",
    "W[W == True] = 1\n",
    "W[W == False] = 0\n",
    "print(np.sum(W))\n",
    "print('sparsity = ', np.sum(W)/(671*9066))\n",
    "# To be consistent with our Q matrix\n",
    "#W = W.astype(np.float64, copy=False)"
   ]
  },
  {
   "cell_type": "markdown",
   "metadata": {},
   "source": [
    "# Q2: Plot a histogram showing the frequency of the rating values."
   ]
  },
  {
   "cell_type": "code",
   "execution_count": 72,
   "metadata": {},
   "outputs": [
    {
     "name": "stdout",
     "output_type": "stream",
     "text": [
      "1101 3326 1687 7271 4449 20064 10538 28750 7723 15095\n"
     ]
    }
   ],
   "source": [
    "r0=0\n",
    "r1=0\n",
    "r2=0\n",
    "r3=0\n",
    "r4=0\n",
    "r5=0\n",
    "r6=0\n",
    "r7=0\n",
    "r8=0\n",
    "r9=0\n",
    "\n",
    "for r in rating:\n",
    "    if r==0.5:\n",
    "        r0+=1\n",
    "    if r==1:\n",
    "        r1+=1\n",
    "    if r==1.5:\n",
    "        r2+=1\n",
    "    if r==2:\n",
    "        r3+=1\n",
    "    if r==2.5:\n",
    "        r4+=1\n",
    "    if r==3:\n",
    "        r5+=1\n",
    "    if r==3.5:\n",
    "        r6+=1\n",
    "    if r==4:\n",
    "        r7+=1\n",
    "    if r==4.5:\n",
    "        r8+=1\n",
    "    if r==5:\n",
    "        r9+=1\n",
    "        \n",
    "print(r0,r1,r2,r3,r4,r5,r6,r7,r8,r9)"
   ]
  },
  {
   "cell_type": "code",
   "execution_count": 73,
   "metadata": {},
   "outputs": [
    {
     "data": {
      "text/plain": [
       "Text(0.5,1,'Frequency of the rating values')"
      ]
     },
     "execution_count": 73,
     "metadata": {},
     "output_type": "execute_result"
    },
    {
     "data": {
      "image/png": "[encoded data removed]",
      "text/plain": [
       "<matplotlib.figure.Figure at 0x1e920bf0>"
      ]
     },
     "metadata": {},
     "output_type": "display_data"
    }
   ],
   "source": [
    "X = [0.5,1.0,1.5,2.0,2.5,3.0,3.5,4.0,4.5,5.0]\n",
    "R_histogram = [r0,r1,r2,r3,r4,r5,r6,r7,r8,r9]\n",
    "\n",
    "fig = plt.figure()\n",
    "plt.bar(X,R_histogram,0.4)\n",
    "plt.xticks([0.5, 1.0, 1.5, 2.0, 3.5, 2.5, 3.0, 4.0, 4.5, 5.0])\n",
    "plt.xlabel(\"Ratings\")\n",
    "plt.ylabel(\"number of Ratings\")\n",
    "plt.title(\"Frequency of the rating values\")"
   ]
  },
  {
   "cell_type": "markdown",
   "metadata": {},
   "source": [
    "From the figure, we can see that people are tend to give rating among 3.0--5.0, and the rating with the most frequency is 4.0."
   ]
  },
  {
   "cell_type": "markdown",
   "metadata": {},
   "source": [
    "# Q3: Plot the distribution of ratings among movies."
   ]
  },
  {
   "cell_type": "code",
   "execution_count": 74,
   "metadata": {},
   "outputs": [
    {
     "name": "stdout",
     "output_type": "stream",
     "text": [
      "9066\n"
     ]
    }
   ],
   "source": [
    "allmovie=list(set(movie))\n",
    "print(len(allmovie))"
   ]
  },
  {
   "cell_type": "code",
   "execution_count": 75,
   "metadata": {},
   "outputs": [
    {
     "name": "stdout",
     "output_type": "stream",
     "text": [
      "[1, 2, 3, 4, 5, 6, 7, 8, 9, 10, 11, 12, 13, 14, 15, 16, 17, 18, 19, 20]\n"
     ]
    }
   ],
   "source": [
    "allmovie.sort()\n",
    "print(allmovie[0:20])"
   ]
  },
  {
   "cell_type": "code",
   "execution_count": 76,
   "metadata": {},
   "outputs": [
    {
     "name": "stdout",
     "output_type": "stream",
     "text": [
      "671\n"
     ]
    }
   ],
   "source": [
    "print(len(W[:,163948]))"
   ]
  },
  {
   "cell_type": "code",
   "execution_count": 77,
   "metadata": {},
   "outputs": [
    {
     "name": "stdout",
     "output_type": "stream",
     "text": [
      "[247, 107, 58, 13, 56, 104, 51, 5, 20, 122, 82, 18, 8, 31, 11, 88, 86, 26, 91, 13]\n"
     ]
    }
   ],
   "source": [
    "r_nums = []\n",
    "for movie in allmovie:\n",
    "    r_num = np.sum(W[:,movie-1])\n",
    "    r_nums.append(r_num)\n",
    "print(r_nums[0:20])"
   ]
  },
  {
   "cell_type": "code",
   "execution_count": 79,
   "metadata": {},
   "outputs": [
    {
     "data": {
      "text/plain": [
       "Text(0.5,1,'Distribution of ratings among movies')"
      ]
     },
     "execution_count": 79,
     "metadata": {},
     "output_type": "execute_result"
    },
    {
     "data": {
      "image/png": "[encoded data removed]",
      "text/plain": [
       "<matplotlib.figure.Figure at 0x1fde0f50>"
      ]
     },
     "metadata": {},
     "output_type": "display_data"
    }
   ],
   "source": [
    "plt.figure()\n",
    "plt.scatter(allmovie,r_nums)\n",
    "#plt.xticks([10000,25000,50000,75000,100000,125000,150000])\n",
    "plt.xlabel(\"Movies\")\n",
    "plt.ylabel(\"number of Ratings\")\n",
    "plt.title(\"Distribution of ratings among movies\")"
   ]
  },
  {
   "cell_type": "code",
   "execution_count": 81,
   "metadata": {},
   "outputs": [
    {
     "data": {
      "text/plain": [
       "Text(0.5,1,'Distribution of ratings among movies')"
      ]
     },
     "execution_count": 81,
     "metadata": {},
     "output_type": "execute_result"
    },
    {
     "data": {
      "image/png": "[encoded data removed]",
      "text/plain": [
       "<matplotlib.figure.Figure at 0x5705510>"
      ]
     },
     "metadata": {},
     "output_type": "display_data"
    }
   ],
   "source": [
    "obj=pd.Series(allmovie,index=r_nums)\n",
    "obj_sorted = obj.sort_index(ascending=False)\n",
    "allmovie_sorted = obj_sorted.values\n",
    "r_sorted = obj_sorted.index\n",
    "\n",
    "plt.figure()\n",
    "plt.scatter(allmovie_sorted,r_sorted)\n",
    "#plt.xticks([10000,25000,50000,75000,100000,125000,150000])\n",
    "plt.xlabel(\"Movies\")\n",
    "plt.ylabel(\"number of Ratings\")\n",
    "plt.title(\"Distribution of ratings among movies\")"
   ]
  },
  {
   "cell_type": "markdown",
   "metadata": {},
   "source": [
    "# Q4: Plot the distribution of ratings among users."
   ]
  },
  {
   "cell_type": "code",
   "execution_count": 82,
   "metadata": {},
   "outputs": [
    {
     "name": "stdout",
     "output_type": "stream",
     "text": [
      "671\n"
     ]
    }
   ],
   "source": [
    "print(np.max(user))"
   ]
  },
  {
   "cell_type": "code",
   "execution_count": 9,
   "metadata": {},
   "outputs": [
    {
     "name": "stdout",
     "output_type": "stream",
     "text": [
      "671\n"
     ]
    }
   ],
   "source": [
    "allusers=list(set(user))\n",
    "print(len(allusers))\n",
    "allusers.sort()"
   ]
  },
  {
   "cell_type": "code",
   "execution_count": 10,
   "metadata": {},
   "outputs": [
    {
     "data": {
      "text/plain": [
       "Text(0.5,1,'Distribution of ratings among users')"
      ]
     },
     "execution_count": 10,
     "metadata": {},
     "output_type": "execute_result"
    },
    {
     "data": {
      "image/png": "[encoded data removed]",
      "text/plain": [
       "<matplotlib.figure.Figure at 0xd4c1b50>"
      ]
     },
     "metadata": {},
     "output_type": "display_data"
    }
   ],
   "source": [
    "r_nums = []\n",
    "for u in allusers:\n",
    "    r_num = np.sum(W[u-1,:])\n",
    "    r_nums.append(r_num)\n",
    "\n",
    "plt.figure()\n",
    "plt.bar(allusers,r_nums)\n",
    "plt.xlabel(\"users\")\n",
    "plt.ylabel(\"number of Ratings\")\n",
    "plt.title(\"Distribution of ratings among users\")"
   ]
  },
  {
   "cell_type": "markdown",
   "metadata": {},
   "source": [
    "# Q5: Explain the salient features of the distribution found in question 3 and their implications for the recommendation process.\n",
    "\n",
    "Most ratings of movies are among index 0 to 10000."
   ]
  },
  {
   "cell_type": "markdown",
   "metadata": {},
   "source": [
    "# Q6: Plot the distribution of movie numbers among rating variance"
   ]
  },
  {
   "cell_type": "code",
   "execution_count": 85,
   "metadata": {},
   "outputs": [],
   "source": [
    "r_var = []\n",
    "for movie in allmovie:\n",
    "    var = np.var(R[:,movie-1])\n",
    "    r_var.append(var)"
   ]
  },
  {
   "cell_type": "code",
   "execution_count": 86,
   "metadata": {},
   "outputs": [
    {
     "name": "stdout",
     "output_type": "stream",
     "text": [
      "5.092148427175668\n",
      "0.0\n"
     ]
    }
   ],
   "source": [
    "print(np.max(r_var))\n",
    "print(np.min(r_var))  "
   ]
  },
  {
   "cell_type": "code",
   "execution_count": 87,
   "metadata": {},
   "outputs": [
    {
     "name": "stdout",
     "output_type": "stream",
     "text": [
      "[8149, 550, 153, 104, 48, 26, 15, 9, 9, 2, 1]\n"
     ]
    }
   ],
   "source": [
    "v0=0\n",
    "v1=0\n",
    "v2=0\n",
    "v3=0\n",
    "v4=0\n",
    "v5=0\n",
    "v6=0\n",
    "v7=0\n",
    "v8=0\n",
    "v9=0\n",
    "v10=0\n",
    "\n",
    "for var in r_var:\n",
    "    if var <= 0.5:\n",
    "        v0+=1\n",
    "    if var > 0.5 and var <=1.0:\n",
    "        v1+=1\n",
    "    if var > 1.0 and var <=1.5:\n",
    "        v2+=1\n",
    "    if var > 1.5 and var <=2.0:\n",
    "        v3+=1\n",
    "    if var > 2.0 and var <=2.5:\n",
    "        v4+=1\n",
    "    if var > 2.5 and var <=3.0:\n",
    "        v5+=1\n",
    "    if var > 3.0 and var <=3.5:\n",
    "        v6+=1\n",
    "    if var > 3.5 and var <=4.0:\n",
    "        v7+=1\n",
    "    if var > 4.0 and var <=4.5:\n",
    "        v8+=1\n",
    "    if var > 4.5 and var <=5.0:\n",
    "        v9+=1\n",
    "    if var > 5.0:\n",
    "        v10+=1\n",
    "varnums = [v0,v1,v2,v3,v4,v5,v6,v7,v8,v9,v10]\n",
    "print(varnums)"
   ]
  },
  {
   "cell_type": "code",
   "execution_count": 88,
   "metadata": {},
   "outputs": [
    {
     "data": {
      "text/plain": [
       "Text(0.5,1,'number of movies--Rating variance')"
      ]
     },
     "execution_count": 88,
     "metadata": {},
     "output_type": "execute_result"
    },
    {
     "data": {
      "image/png": "[encoded data removed]",
      "text/plain": [
       "<matplotlib.figure.Figure at 0x15f145b0>"
      ]
     },
     "metadata": {},
     "output_type": "display_data"
    }
   ],
   "source": [
    "#X = np.arange(11)+1\n",
    "\n",
    "plt.figure()\n",
    "\n",
    "#plt.bar(X-0.25,[v0,v1,v2,v3,v4,v5,v6,v7,v8,v9,v10],0.4)\n",
    "plt.bar([0.25, 0.75, 1.25, 1.75, 2.25, 2.75, 3.25, 3.75, 4.25, 4.75, 5.25],[v0,v1,v2,v3,v4,v5,v6,v7,v8,v9,v10],0.45)\n",
    "plt.xticks([0, 0.5, 1.0, 1.5, 2.0, 3.5, 2.5, 3.0, 4.0, 4.5, 5.0, 5.5])\n",
    "\n",
    "plt.xlabel(\"Rating variance\")\n",
    "plt.ylabel(\"number of movies\")\n",
    "plt.title(\"number of movies--Rating variance\")"
   ]
  },
  {
   "cell_type": "markdown",
   "metadata": {},
   "source": [
    "From the figure, the variance of most movies is among 0--0.5, which means that the rating of a movie is stable."
   ]
  },
  {
   "cell_type": "code",
   "execution_count": null,
   "metadata": {},
   "outputs": [],
   "source": []
  }
 ],
 "metadata": {
  "kernelspec": {
   "display_name": "Python 3",
   "language": "python",
   "name": "python3"
  },
  "language_info": {
   "codemirror_mode": {
    "name": "ipython",
    "version": 3
   },
   "file_extension": ".py",
   "mimetype": "text/x-python",
   "name": "python",
   "nbconvert_exporter": "python",
   "pygments_lexer": "ipython3",
   "version": "3.6.4"
  }
 },
 "nbformat": 4,
 "nbformat_minor": 2
}
