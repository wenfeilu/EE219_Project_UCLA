{
 "cells": [
  {
   "cell_type": "markdown",
   "metadata": {},
   "source": [
    "# 6 Naive collaborative filtering"
   ]
  },
  {
   "cell_type": "markdown",
   "metadata": {},
   "source": [
    "# Q30"
   ]
  },
  {
   "cell_type": "code",
   "execution_count": 11,
   "metadata": {},
   "outputs": [
    {
     "name": "stdout",
     "output_type": "stream",
     "text": [
      "RMSE: 0.9437\n",
      "RMSE: 0.9732\n",
      "RMSE: 0.9432\n",
      "RMSE: 0.9521\n",
      "RMSE: 0.9570\n",
      "RMSE: 0.9683\n",
      "RMSE: 0.9576\n",
      "RMSE: 0.9623\n",
      "RMSE: 0.9419\n",
      "RMSE: 0.9545\n"
     ]
    }
   ],
   "source": [
    "from surprise import AlgoBase\n",
    "from surprise import Dataset\n",
    "from surprise.model_selection import cross_validate\n",
    "from surprise import Reader\n",
    "from surprise import accuracy\n",
    "import os\n",
    "#from surprise import Trainset\n",
    "from six import iteritems\n",
    "from surprise.model_selection.split import KFold\n",
    "import pandas as pd\n",
    "import numpy as np\n",
    "import matplotlib.pyplot as plt\n",
    "%matplotlib inline\n",
    "\n",
    "# path to dataset file\n",
    "file_path = os.path.expanduser('~/Desktop/EE219A/ml-latest-small/ratings.csv')\n",
    "\n",
    "# As we're loading a custom dataset, we need to define a reader. In the\n",
    "# movielens-100k dataset, each line has the following format:\n",
    "# 'user item rating timestamp', separated by '\\t' characters.\n",
    "reader = Reader(line_format='user item rating timestamp', sep=',',skip_lines=1)\n",
    "\n",
    "data = Dataset.load_from_file(file_path, reader=reader)\n",
    "\n",
    "\n",
    "class NaiveFilter(AlgoBase):\n",
    "\n",
    "    def __init__(self):\n",
    "\n",
    "        # Always call base method before doing anything.\n",
    "        AlgoBase.__init__(self)\n",
    "        \n",
    "    def fit(self, trainset):\n",
    "\n",
    "        AlgoBase.fit(self, trainset)\n",
    "        self.means = np.zeros(self.trainset.n_users)\n",
    "        \n",
    "        for x, ratings in iteritems(self.trainset.ur):\n",
    "            self.means[x] = np.mean([r for (_, r) in ratings])\n",
    "\n",
    "        return self\n",
    "\n",
    "\n",
    "    def estimate(self, u, i):\n",
    "        est = self.means[u]\n",
    "\n",
    "        return est\n",
    "\n",
    "\n",
    "\n",
    "kf = KFold(n_splits=10)\n",
    "algo = NaiveFilter()\n",
    "trainset = data.build_full_trainset()\n",
    "algo.fit(trainset)\n",
    "rmse_nf = []\n",
    "for trainset_new, testset in kf.split(data):\n",
    "\n",
    "    predictions = algo.test(testset)\n",
    "\n",
    "    # Compute and print Root Mean Squared Error\n",
    "    #accuracy.rmse(predictions, verbose=True)\n",
    "    rmse_nf.append(accuracy.rmse(predictions, verbose=True))"
   ]
  },
  {
   "cell_type": "code",
   "execution_count": 12,
   "metadata": {},
   "outputs": [
    {
     "data": {
      "text/plain": [
       "0.95538232560904712"
      ]
     },
     "execution_count": 12,
     "metadata": {},
     "output_type": "execute_result"
    }
   ],
   "source": [
    "np.mean(rmse_nf)"
   ]
  },
  {
   "cell_type": "markdown",
   "metadata": {},
   "source": [
    "# Q31"
   ]
  },
  {
   "cell_type": "code",
   "execution_count": 7,
   "metadata": {},
   "outputs": [
    {
     "name": "stdout",
     "output_type": "stream",
     "text": [
      "100004\n"
     ]
    },
    {
     "data": {
      "text/html": [
       "<div>\n",
       "<style scoped>\n",
       "    .dataframe tbody tr th:only-of-type {\n",
       "        vertical-align: middle;\n",
       "    }\n",
       "\n",
       "    .dataframe tbody tr th {\n",
       "        vertical-align: top;\n",
       "    }\n",
       "\n",
       "    .dataframe thead th {\n",
       "        text-align: right;\n",
       "    }\n",
       "</style>\n",
       "<table border=\"1\" class=\"dataframe\">\n",
       "  <thead>\n",
       "    <tr style=\"text-align: right;\">\n",
       "      <th></th>\n",
       "      <th>userId</th>\n",
       "      <th>movieId</th>\n",
       "      <th>rating</th>\n",
       "      <th>timestamp</th>\n",
       "    </tr>\n",
       "  </thead>\n",
       "  <tbody>\n",
       "    <tr>\n",
       "      <th>0</th>\n",
       "      <td>1</td>\n",
       "      <td>31</td>\n",
       "      <td>2.5</td>\n",
       "      <td>1260759144</td>\n",
       "    </tr>\n",
       "    <tr>\n",
       "      <th>1</th>\n",
       "      <td>1</td>\n",
       "      <td>1029</td>\n",
       "      <td>3.0</td>\n",
       "      <td>1260759179</td>\n",
       "    </tr>\n",
       "    <tr>\n",
       "      <th>2</th>\n",
       "      <td>1</td>\n",
       "      <td>1061</td>\n",
       "      <td>3.0</td>\n",
       "      <td>1260759182</td>\n",
       "    </tr>\n",
       "    <tr>\n",
       "      <th>3</th>\n",
       "      <td>1</td>\n",
       "      <td>1129</td>\n",
       "      <td>2.0</td>\n",
       "      <td>1260759185</td>\n",
       "    </tr>\n",
       "    <tr>\n",
       "      <th>4</th>\n",
       "      <td>1</td>\n",
       "      <td>1172</td>\n",
       "      <td>4.0</td>\n",
       "      <td>1260759205</td>\n",
       "    </tr>\n",
       "  </tbody>\n",
       "</table>\n",
       "</div>"
      ],
      "text/plain": [
       "   userId  movieId  rating   timestamp\n",
       "0       1       31     2.5  1260759144\n",
       "1       1     1029     3.0  1260759179\n",
       "2       1     1061     3.0  1260759182\n",
       "3       1     1129     2.0  1260759185\n",
       "4       1     1172     4.0  1260759205"
      ]
     },
     "execution_count": 7,
     "metadata": {},
     "output_type": "execute_result"
    }
   ],
   "source": [
    "import pandas as pd\n",
    "import numpy as np\n",
    "import matplotlib.pyplot as plt\n",
    "%matplotlib inline\n",
    "\n",
    "\n",
    "data_pd = pd.read_csv('ml-latest-small/ratings.csv', sep=',')\n",
    "\n",
    "print(len(data_pd))\n",
    "data_pd.head()"
   ]
  },
  {
   "cell_type": "code",
   "execution_count": 8,
   "metadata": {},
   "outputs": [],
   "source": [
    "data_popular = data_pd.groupby('movieId').filter(lambda x: len(x) > 2)\n",
    "data_unpopular = data_pd.groupby('movieId').filter(lambda x: len(x) <= 2)\n",
    "data1 =data_pd.groupby('movieId').filter(lambda x: len(x) >= 5)\n",
    "data_highvar=data1.groupby('movieId').filter(lambda x: np.var(x['rating']) >= 2 )"
   ]
  },
  {
   "cell_type": "code",
   "execution_count": 9,
   "metadata": {},
   "outputs": [],
   "source": [
    "reader = Reader()\n",
    "dataset_popular = Dataset.load_from_df(data_popular[['userId', 'movieId', 'rating']], reader)\n",
    "dataset_unpopular = Dataset.load_from_df(data_unpopular[['userId', 'movieId', 'rating']], reader)\n",
    "dataset_highvar = Dataset.load_from_df(data_highvar[['userId', 'movieId', 'rating']], reader)"
   ]
  },
  {
   "cell_type": "code",
   "execution_count": 14,
   "metadata": {},
   "outputs": [
    {
     "name": "stdout",
     "output_type": "stream",
     "text": [
      "0.95421186468 0.886063606432 0.932509291971\n"
     ]
    }
   ],
   "source": [
    "\n",
    "\n",
    "algo = NaiveFilter()\n",
    "\n",
    "def get_rmse(dataset):\n",
    "    kf = KFold(n_splits=10)\n",
    "    data = dataset\n",
    "    trainset = data.build_full_trainset()\n",
    "    algo.fit(trainset)\n",
    "    rmse_nf = []\n",
    "    for trainset_new, testset in kf.split(data):\n",
    "\n",
    "        predictions = algo.test(testset)\n",
    "\n",
    "        rmse_nf.append(accuracy.rmse(predictions, verbose=False))\n",
    "        r = np.mean(rmse_nf)\n",
    "        return r\n",
    "    \n",
    "popular_rmse = get_rmse(dataset_popular)\n",
    "unpopular_rmse = get_rmse(dataset_unpopular)\n",
    "highvar_rmse = get_rmse(dataset_highvar)\n",
    "\n",
    "print(popular_rmse, unpopular_rmse, highvar_rmse)\n"
   ]
  },
  {
   "cell_type": "code",
   "execution_count": null,
   "metadata": {},
   "outputs": [],
   "source": []
  }
 ],
 "metadata": {
  "kernelspec": {
   "display_name": "Python 3",
   "language": "python",
   "name": "python3"
  },
  "language_info": {
   "codemirror_mode": {
    "name": "ipython",
    "version": 3
   },
   "file_extension": ".py",
   "mimetype": "text/x-python",
   "name": "python",
   "nbconvert_exporter": "python",
   "pygments_lexer": "ipython3",
   "version": "3.6.4"
  }
 },
 "nbformat": 4,
 "nbformat_minor": 2
}
